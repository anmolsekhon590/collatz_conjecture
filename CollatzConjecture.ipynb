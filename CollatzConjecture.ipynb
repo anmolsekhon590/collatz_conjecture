{
  "nbformat": 4,
  "nbformat_minor": 0,
  "metadata": {
    "colab": {
      "name": "CollatzConjecture.ipynb",
      "provenance": [],
      "collapsed_sections": [],
      "authorship_tag": "ABX9TyOZdXs1AgD1WyXleO4Wxgkh",
      "include_colab_link": true
    },
    "kernelspec": {
      "display_name": "Python 3",
      "name": "python3"
    },
    "language_info": {
      "name": "python"
    }
  },
  "cells": [
    {
      "cell_type": "markdown",
      "metadata": {
        "id": "view-in-github",
        "colab_type": "text"
      },
      "source": [
        "<a href=\"https://colab.research.google.com/github/anmolsekhon590/collatz_conjecture/blob/main/CollatzConjecture.ipynb\" target=\"_parent\"><img src=\"https://colab.research.google.com/assets/colab-badge.svg\" alt=\"Open In Colab\"/></a>"
      ]
    },
    {
      "cell_type": "code",
      "metadata": {
        "id": "NxUP5ROwxe74"
      },
      "source": [
        "# Setiing the seed for the function\n",
        "seed = 123"
      ],
      "execution_count": null,
      "outputs": []
    },
    {
      "cell_type": "code",
      "metadata": {
        "id": "mE74AK-2xm-V"
      },
      "source": [
        "# importing the neccessary libraries\n",
        "import matplotlib.pyplot as plt\n",
        "import numpy as np"
      ],
      "execution_count": null,
      "outputs": []
    },
    {
      "cell_type": "code",
      "metadata": {
        "colab": {
          "base_uri": "https://localhost:8080/",
          "height": 295
        },
        "id": "rCAHdD5rxuGA",
        "outputId": "e220d756-589e-4990-fbac-c8d75637ed4c"
      },
      "source": [
        "# i here is the iteration\n",
        "i = 0\n",
        "\n",
        "# looping till seed is 1\n",
        "while seed !=1:\n",
        "  # if seed is even\n",
        "  if seed %2 == 0:\n",
        "    seed = seed / 2\n",
        "  # if seed is odd\n",
        "  else:\n",
        "    seed = seed * 3 + 1\n",
        "  \n",
        "  # Plotting the graph\n",
        "  plt.scatter(i, seed, color=\"red\") \n",
        "\n",
        "  # incrementing the iteration\n",
        "  i = i + 1\n",
        "\n",
        "# setting label along y-axis\n",
        "plt.ylabel(\"seed\")\n",
        "\n",
        "# setting label along x-axis\n",
        "plt.xlabel(\"iterations\")\n",
        "\n",
        "# setting the title\n",
        "plt.title(\"Collatz Conjecture\")\n",
        "\n",
        "# shows the graph\n",
        "plt.show()"
      ],
      "execution_count": null,
      "outputs": [
        {
          "output_type": "display_data",
          "data": {
            "image/png": "[encoded data removed]",
            "text/plain": [
              "<Figure size 432x288 with 1 Axes>"
            ]
          },
          "metadata": {
            "tags": [],
            "needs_background": "light"
          }
        }
      ]
    },
    {
      "cell_type": "code",
      "metadata": {
        "id": "hh15yqsOx3GX"
      },
      "source": [
        ""
      ],
      "execution_count": null,
      "outputs": []
    }
  ]
}